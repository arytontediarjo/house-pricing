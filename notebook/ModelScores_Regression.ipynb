{
 "cells": [
  {
   "cell_type": "code",
   "execution_count": 55,
   "metadata": {},
   "outputs": [],
   "source": [
    "import matplotlib.pyplot as plt\n",
    "import seaborn as sns\n",
    "import pandas as pd\n",
    "import numpy as np\n",
    "import warnings\n",
    "import ppscore as pps\n",
    "from sklearn.impute import SimpleImputer\n",
    "import numpy as np\n",
    "from sklearn.model_selection import train_test_split\n",
    "from sklearn.linear_model import LinearRegression\n",
    "import sklearn.metrics\n",
    "import statsmodels.api as sm\n",
    "\n",
    "warnings.simplefilter(\"ignore\")\n",
    "%matplotlib inline"
   ]
  },
  {
   "cell_type": "code",
   "execution_count": 133,
   "metadata": {},
   "outputs": [],
   "source": [
    "train = pd.read_csv(\"../data/feature_engineered_training_data.csv\", \n",
    "                    index_col = [0])\n",
    "\n",
    "temporal = [var for var in train.columns if (\"Yr\" in var) \n",
    "        or (\"Mo\" in var) or (\"Year\" in var)]\n",
    "\n",
    "levels = [\"OverallCond\", \"OverallQual\", \"MSSubClass\", \"BsmtFullBath\", \n",
    "            \"BsmtHalfBath\", \"FullBath\", \"HalfBath\", \"BedroomAbvGr\", \n",
    "            \"KitchenAbvGr\", \"TotRmsAbvGrd\", \"Fireplaces\", \"GarageCars\",\n",
    "            \"ExterQual\", \"ExterCond\", \"BsmtQual\", \"BsmtCond\", \n",
    "            \"BsmtExposure\", \"HeatingQC\", \"KitchenQual\", \n",
    "          \"GarageQual\",\"GarageCond\"]\n",
    "\n",
    "categorical = [var for var in train.columns if (train[var].dtype =='O') \n",
    "               and (var not in temporal)\n",
    "              and (var not in levels)]\n",
    "\n",
    "numerical = [var for var in train.columns if (train[var].dtype !='O') \n",
    "             and (var not in temporal) \n",
    "             and (var not in levels)]\n",
    "\n",
    "numerical_level = levels + numerical"
   ]
  },
  {
   "cell_type": "markdown",
   "metadata": {},
   "source": [
    "## Feature Engineered (Basic) Performance"
   ]
  },
  {
   "cell_type": "markdown",
   "metadata": {},
   "source": [
    "### Basic Regression"
   ]
  },
  {
   "cell_type": "code",
   "execution_count": 139,
   "metadata": {},
   "outputs": [
    {
     "name": "stdout",
     "output_type": "stream",
     "text": [
      "RMSE: 84716.80413721436\n",
      "Unadjusted R2-Score: 0.39389761193823136\n"
     ]
    }
   ],
   "source": [
    "X = train.drop([\"SalePrice\", \"log_SalePrice\"], axis = 1)\n",
    "y = train[\"SalePrice\"]\n",
    "X_train, X_test, y_train, y_test = train_test_split(X, y, \n",
    "                                                    test_size=0.25, \n",
    "                                                    random_state=100)\n",
    "LR = LinearRegression().fit(X_train, y_train)\n",
    "print(\"RMSE: {}\".format(\n",
    "    np.sqrt(sklearn.metrics.mean_squared_error((LR.predict(X_test)), \n",
    "                                               (y_test)))))\n",
    "print(\"Unadjusted R2-Score: {}\".format(\n",
    "    sklearn.metrics.r2_score((LR.predict(X_test)), \n",
    "                             (y_test))))"
   ]
  },
  {
   "cell_type": "markdown",
   "metadata": {},
   "source": [
    "### Added Log Transformation on Target Variables"
   ]
  },
  {
   "cell_type": "code",
   "execution_count": 140,
   "metadata": {},
   "outputs": [
    {
     "name": "stdout",
     "output_type": "stream",
     "text": [
      "RMSE: 32636.622045246597\n",
      "Unadjusted R2-Score: 0.8232339638665236\n"
     ]
    }
   ],
   "source": [
    "X = train.drop([\"SalePrice\", \"log_SalePrice\"], axis = 1)\n",
    "y = train[\"log_SalePrice\"]\n",
    "X_train, X_test, y_train, y_test = train_test_split(X, y, \n",
    "                                                    test_size=0.25, \n",
    "                                                    random_state=100)\n",
    "LR = LinearRegression().fit(X_train, y_train)\n",
    "print(\"RMSE: {}\".format(\n",
    "    np.sqrt(sklearn.metrics.mean_squared_error(np.exp(LR.predict(X_test)), \n",
    "                                               np.exp(y_test)))))\n",
    "print(\"Unadjusted R2-Score: {}\".format(\n",
    "    sklearn.metrics.r2_score(np.exp(LR.predict(X_test)), \n",
    "                             np.exp(y_test))))"
   ]
  },
  {
   "cell_type": "code",
   "execution_count": 141,
   "metadata": {},
   "outputs": [],
   "source": [
    "## Added Continuous Variable Scaling"
   ]
  },
  {
   "cell_type": "code",
   "execution_count": null,
   "metadata": {},
   "outputs": [],
   "source": []
  }
 ],
 "metadata": {
  "kernelspec": {
   "display_name": "Python 3",
   "language": "python",
   "name": "python3"
  },
  "language_info": {
   "codemirror_mode": {
    "name": "ipython",
    "version": 3
   },
   "file_extension": ".py",
   "mimetype": "text/x-python",
   "name": "python",
   "nbconvert_exporter": "python",
   "pygments_lexer": "ipython3",
   "version": "3.7.4"
  }
 },
 "nbformat": 4,
 "nbformat_minor": 4
}
