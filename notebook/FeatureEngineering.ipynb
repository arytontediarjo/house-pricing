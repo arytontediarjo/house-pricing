{
 "cells": [
  {
   "cell_type": "code",
   "execution_count": 116,
   "metadata": {},
   "outputs": [],
   "source": [
    "import matplotlib.pyplot as plt\n",
    "import seaborn as sns\n",
    "import pandas as pd\n",
    "import numpy as np\n",
    "import warnings\n",
    "import ppscore as pps\n",
    "import statsmodels.api as sm\n",
    "\n",
    "warnings.simplefilter(\"ignore\")\n",
    "%matplotlib inline"
   ]
  },
  {
   "cell_type": "markdown",
   "metadata": {},
   "source": [
    "Steps: \n",
    "- Natural Log Normalize House Price -> then turn back after prediction\n",
    "- Combine temporal variables (remove garage as it can be detected from hasGarage)\n",
    "- Missing Values -> Fill with Missing, except for PoolQC, Alley etc change to binary\n",
    "- Categorical to dummy variables"
   ]
  },
  {
   "cell_type": "code",
   "execution_count": 153,
   "metadata": {},
   "outputs": [],
   "source": [
    "train = pd.read_csv(\"../data/train.csv\", index_col = [0])\n",
    "test = pd.read_csv(\"../data/test.csv\", index_col = [0])"
   ]
  },
  {
   "cell_type": "code",
   "execution_count": 141,
   "metadata": {},
   "outputs": [],
   "source": [
    "temporal = [var for var in train.columns if (\"Yr\" in var) \n",
    "        or (\"Mo\" in var) or (\"Year\" in var)]\n",
    "\n",
    "levels = [\"OverallCond\", \"OverallQual\", \"MSSubClass\", \"BsmtFullBath\", \n",
    "            \"BsmtHalfBath\", \"FullBath\", \"HalfBath\", \"BedroomAbvGr\", \n",
    "            \"KitchenAbvGr\", \"TotRmsAbvGrd\", \"Fireplaces\", \"GarageCars\",\n",
    "            \"ExterQual\", \"ExterCond\", \"BsmtQual\", \"BsmtCond\", \n",
    "            \"BsmtExposure\", \"HeatingQC\", \"KitchenQual\", \n",
    "          \"GarageQual\",\"GarageCond\"]\n",
    "\n",
    "categorical = [var for var in train.columns if (train[var].dtype =='O') \n",
    "               and (var not in temporal)\n",
    "              and (var not in levels)]\n",
    "\n",
    "numerical = [var for var in train.columns if (train[var].dtype !='O') \n",
    "             and (var not in temporal) \n",
    "             and (var not in levels)]\n",
    "numerical_level = levels + numerical"
   ]
  },
  {
   "cell_type": "code",
   "execution_count": 142,
   "metadata": {},
   "outputs": [],
   "source": [
    "## categorical to levels conversion\n",
    "train[\"ExterQual\"] = train[\"ExterQual\"].map({\"None\":0,\"Po\":1, \"Fa\":2, \"TA\":3, \"Gd\":4, \"Ex\":5})\n",
    "train[\"ExterCond\"] = train[\"ExterCond\"].map({\"None\":0,\"Po\":1, \"Fa\":2, \"TA\":3, \"Gd\":4, \"Ex\":5})\n",
    "train[\"BsmtQual\"] = train[\"BsmtQual\"].map({\"None\":0,\"Po\":1, \"Fa\":2, \"TA\":3, \"Gd\":4, \"Ex\":5})\n",
    "train[\"BsmtCond\"] = train[\"BsmtCond\"].map({\"None\":0,\"Po\":1, \"Fa\":2, \"TA\":3, \"Gd\":4, \"Ex\":5})\n",
    "train[\"BsmtExposure\"] = train[\"BsmtExposure\"].map({\"None\":0,\"Po\":1, \"Fa\":2, \"TA\":3, \"Gd\":4, \"Ex\":5})\n",
    "train[\"HeatingQC\"] = train[\"HeatingQC\"].map({\"None\":0,\"Po\":1, \"Fa\":2, \"TA\":3, \"Gd\":4, \"Ex\":5})\n",
    "train[\"KitchenQual\"] = train[\"KitchenQual\"].map({\"None\":0,\"Po\":1, \"Fa\":2, \"TA\":3, \"Gd\":4, \"Ex\":5})\n",
    "train[\"GarageQual\"] = train[\"GarageQual\"].map({\"None\":0,\"Po\":1, \"Fa\":2, \"TA\":3, \"Gd\":4, \"Ex\":5})\n",
    "train[\"GarageCond\"] = train[\"GarageCond\"].map({\"None\":0,\"Po\":1, \"Fa\":2, \"TA\":3, \"Gd\":4, \"Ex\":5})"
   ]
  },
  {
   "cell_type": "markdown",
   "metadata": {},
   "source": [
    "## Normalize Sale Price"
   ]
  },
  {
   "cell_type": "code",
   "execution_count": 143,
   "metadata": {},
   "outputs": [
    {
     "data": {
      "image/png": "[encoded data removed]",
      "text/plain": [
       "<Figure size 432x288 with 1 Axes>"
      ]
     },
     "metadata": {
      "needs_background": "light"
     },
     "output_type": "display_data"
    }
   ],
   "source": [
    "y_label = np.log(train[[\"SalePrice\"]])\n",
    "\n",
    "sns.distplot(y_label)\n",
    "plt.title(\"Log Normalized Sale Price\")\n",
    "plt.ylabel(\"Log Sale Price\")\n",
    "sns.despine()\n",
    "plt.show()"
   ]
  },
  {
   "cell_type": "markdown",
   "metadata": {},
   "source": [
    "## Combine Temporal"
   ]
  },
  {
   "cell_type": "code",
   "execution_count": 144,
   "metadata": {},
   "outputs": [],
   "source": [
    "temporal_train = pd.DataFrame()"
   ]
  },
  {
   "cell_type": "code",
   "execution_count": 145,
   "metadata": {},
   "outputs": [],
   "source": [
    "temporal_train[\"n_temp_houseAge\"] = \\\n",
    "    train[\"YrSold\"] - train[\"YearBuilt\"]\n",
    "temporal_train[\"n_temp_lastRemodelled\"] = \\\n",
    "    train[\"YrSold\"] - train[\"YearRemodAdd\"]"
   ]
  },
  {
   "cell_type": "markdown",
   "metadata": {},
   "source": [
    "## Missing Values"
   ]
  },
  {
   "cell_type": "code",
   "execution_count": 146,
   "metadata": {},
   "outputs": [],
   "source": [
    "numerical_train = train[numerical].fillna(0)\n",
    "levels_train = train[levels].fillna(0)"
   ]
  },
  {
   "cell_type": "code",
   "execution_count": 147,
   "metadata": {},
   "outputs": [],
   "source": [
    "categorical_train = train[categorical].copy()\n",
    "cat1 = [\"Alley\", \"MasVnrType\", \"BsmtFinType1\", \"BsmtFinType2\", \n",
    "        \"FireplaceQu\", \"GarageType\", \"GarageFinish\", \n",
    "        \"PoolQC\", \"Fence\", \"MiscFeature\"]\n",
    "categorical_train[cat1] = categorical_train[cat1].fillna(\"Missing\")\n",
    "categorical_train[\"Electrical\"] = categorical_train[\"Electrical\"].fillna(\n",
    "    categorical_train[\"Electrical\"].mode().iloc[0])"
   ]
  },
  {
   "cell_type": "markdown",
   "metadata": {},
   "source": [
    "## Dummy Categorical Variables"
   ]
  },
  {
   "cell_type": "code",
   "execution_count": 129,
   "metadata": {},
   "outputs": [],
   "source": [
    "dummy_categorical_train = pd.get_dummies(categorical_train, drop_first= True)"
   ]
  },
  {
   "cell_type": "markdown",
   "metadata": {},
   "source": [
    "## Combining Everything"
   ]
  },
  {
   "cell_type": "code",
   "execution_count": 197,
   "metadata": {},
   "outputs": [],
   "source": [
    "def shape_data(train):\n",
    "    temporal = [var for var in train.columns if (\"Yr\" in var) \n",
    "            or (\"Mo\" in var) or (\"Year\" in var)]\n",
    "\n",
    "    levels = [\"OverallCond\", \"OverallQual\", \"MSSubClass\", \"BsmtFullBath\", \n",
    "              \"BsmtHalfBath\", \"FullBath\", \"HalfBath\", \"BedroomAbvGr\", \n",
    "              \"KitchenAbvGr\", \"TotRmsAbvGrd\", \"Fireplaces\", \"GarageCars\",\n",
    "            \"ExterQual\", \"ExterCond\", \"BsmtQual\", \"BsmtCond\", \"BsmtExposure\", \"HeatingQC\",\n",
    "             \"KitchenQual\", \"GarageQual\", \"GarageCond\"]\n",
    "\n",
    "    categorical = [var for var in train.columns if (train[var].dtype =='O') \n",
    "                   and (var not in temporal)\n",
    "                  and (var not in levels)]\n",
    "\n",
    "    numerical = [var for var in train.columns if (train[var].dtype !='O') \n",
    "                 and (var not in temporal) \n",
    "                 and (var not in levels)]\n",
    "    numerical_level = levels + numerical\n",
    "    \n",
    "    ## categorical to levels conversion\n",
    "    train[\"ExterQual\"] = train[\"ExterQual\"].map({\"None\":0,\"Po\":1, \n",
    "                                                 \"Fa\":2, \"TA\":3, \n",
    "                                                 \"Gd\":4, \"Ex\":5})\n",
    "    train[\"ExterCond\"] = train[\"ExterCond\"].map({\"None\":0,\"Po\":1, \n",
    "                                                 \"Fa\":2, \"TA\":3, \n",
    "                                                 \"Gd\":4, \"Ex\":5})\n",
    "    train[\"BsmtQual\"] = train[\"BsmtQual\"].map({\"None\":0,\"Po\":1, \n",
    "                                               \"Fa\":2, \"TA\":3, \n",
    "                                               \"Gd\":4, \"Ex\":5})\n",
    "    train[\"BsmtCond\"] = train[\"BsmtCond\"].map({\"None\":0,\"Po\":1, \n",
    "                                               \"Fa\":2, \"TA\":3, \n",
    "                                               \"Gd\":4, \"Ex\":5})\n",
    "    train[\"BsmtExposure\"] = train[\"BsmtExposure\"].map({\"None\":0,\"Po\":1, \n",
    "                                                       \"Fa\":2, \"TA\":3, \n",
    "                                                       \"Gd\":4, \"Ex\":5})\n",
    "    train[\"HeatingQC\"] = train[\"HeatingQC\"].map({\"None\":0,\"Po\":1, \n",
    "                                                 \"Fa\":2, \"TA\":3, \n",
    "                                                 \"Gd\":4, \"Ex\":5})\n",
    "    train[\"KitchenQual\"] = train[\"KitchenQual\"].map({\"None\":0,\"Po\":1, \n",
    "                                                     \"Fa\":2, \"TA\":3, \n",
    "                                                     \"Gd\":4, \"Ex\":5})\n",
    "    train[\"GarageQual\"] = train[\"GarageQual\"].map({\"None\":0,\"Po\":1, \n",
    "                                                   \"Fa\":2, \"TA\":3, \n",
    "                                                   \"Gd\":4, \"Ex\":5})\n",
    "    train[\"GarageCond\"] = train[\"GarageCond\"].map({\"None\":0,\"Po\":1, \n",
    "                                                   \"Fa\":2, \"TA\":3, \n",
    "                                                   \"Gd\":4, \"Ex\":5})\n",
    "    ## label\n",
    "    try:\n",
    "        label_train = pd.DataFrame()\n",
    "        label_train[\"log_SalePrice\"] = np.log(train[\"SalePrice\"])\n",
    "        label_train[\"SalePrice\"] = train[\"SalePrice\"]\n",
    "    except:\n",
    "        pass\n",
    "    \n",
    "    ## temporal data\n",
    "    temporal_train = pd.DataFrame()\n",
    "    temporal_train[\"n_temp_houseAge\"] = \\\n",
    "        train[\"YrSold\"] - train[\"YearBuilt\"]\n",
    "    temporal_train[\"n_temp_lastRemodelled\"] = \\\n",
    "        train[\"YrSold\"] - train[\"YearRemodAdd\"]\n",
    "    \n",
    "    ## numerical data\n",
    "    numerical_train = train[numerical].fillna(0)\n",
    "    \n",
    "    ## ranked data\n",
    "    levels_train = train[levels].fillna(0)\n",
    "    \n",
    "    ## categorical data\n",
    "    categorical_train = train[categorical].copy()\n",
    "    cat1 = [\"Alley\", \"MasVnrType\", \"BsmtFinType1\", \"BsmtFinType2\", \"FireplaceQu\", \n",
    "            \"GarageType\", \"GarageFinish\", \"PoolQC\", \"Fence\", \"MiscFeature\"]\n",
    "    categorical_train[cat1] = categorical_train[cat1].fillna(\"Missing\")\n",
    "    categorical_train[\"Electrical\"] = categorical_train[\"Electrical\"].fillna(\n",
    "        categorical_train[\"Electrical\"].mode().iloc[0])\n",
    "    \n",
    "    dummy_categorical_train = pd.get_dummies(categorical_train, drop_first= True)\n",
    "    \n",
    "    train_results = pd.concat([temporal_train, \n",
    "                               numerical_train.drop(\"SalePrice\", axis = 1), \n",
    "                               levels_train, \n",
    "                               dummy_categorical_train, \n",
    "                               label_train], axis = 1)\n",
    "    return train_results"
   ]
  },
  {
   "cell_type": "code",
   "execution_count": 198,
   "metadata": {},
   "outputs": [],
   "source": [
    "train_results = shape_data(train)\n",
    "\n",
    "# train_results, test_results = train_results.align(test_results, \n",
    "#                                                   join='outer', \n",
    "#                                                   axis=1, \n",
    "#                                                   fill_value=\"Missing\")"
   ]
  },
  {
   "cell_type": "code",
   "execution_count": 199,
   "metadata": {},
   "outputs": [],
   "source": [
    "train_results.to_csv(\"../data/feature_engineered_training_data.csv\")\n",
    "test_results.to_csv(\"../data/feature_engineered_test_data.csv\")"
   ]
  },
  {
   "cell_type": "code",
   "execution_count": null,
   "metadata": {},
   "outputs": [],
   "source": []
  }
 ],
 "metadata": {
  "kernelspec": {
   "display_name": "Python 3",
   "language": "python",
   "name": "python3"
  },
  "language_info": {
   "codemirror_mode": {
    "name": "ipython",
    "version": 3
   },
   "file_extension": ".py",
   "mimetype": "text/x-python",
   "name": "python",
   "nbconvert_exporter": "python",
   "pygments_lexer": "ipython3",
   "version": "3.7.4"
  }
 },
 "nbformat": 4,
 "nbformat_minor": 4
}
